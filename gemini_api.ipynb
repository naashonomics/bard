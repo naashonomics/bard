{
  "nbformat": 4,
  "nbformat_minor": 0,
  "metadata": {
    "colab": {
      "provenance": [],
      "include_colab_link": true
    },
    "kernelspec": {
      "name": "python3",
      "display_name": "Python 3"
    },
    "language_info": {
      "name": "python"
    }
  },
  "cells": [
    {
      "cell_type": "markdown",
      "metadata": {
        "id": "view-in-github",
        "colab_type": "text"
      },
      "source": [
        "<a href=\"https://colab.research.google.com/github/naashonomics/bard/blob/main/gemini_api.ipynb\" target=\"_parent\"><img src=\"https://colab.research.google.com/assets/colab-badge.svg\" alt=\"Open In Colab\"/></a>"
      ]
    },
    {
      "cell_type": "code",
      "source": [
        "pip install -q -U google-generativeai"
      ],
      "metadata": {
        "id": "Fs9s9nZeKeB6"
      },
      "execution_count": null,
      "outputs": []
    },
    {
      "cell_type": "code",
      "execution_count": null,
      "metadata": {
        "id": "pCWCAv7lI7q4"
      },
      "outputs": [],
      "source": [
        "import pathlib\n",
        "import textwrap\n",
        "import google.generativeai as genai\n",
        "# Used to securely store your API key\n",
        "from google.colab import userdata\n",
        "from IPython.display import display\n",
        "from IPython.display import Markdown\n",
        "\n",
        "def to_markdown(text):\n",
        "  text = text.replace('•', '  *')\n",
        "  return Markdown(textwrap.indent(text, '> ', predicate=lambda _: True))"
      ]
    },
    {
      "cell_type": "code",
      "source": [
        "GOOGLE_API_KEY=userdata.get('GOOGLE_API_KEY')\n",
        "genai.configure(api_key=GOOGLE_API_KEY)\n",
        "\n",
        "for m in genai.list_models():\n",
        "  if 'generateContent' in m.supported_generation_methods:\n",
        "    print(m.name)"
      ],
      "metadata": {
        "id": "p3V1k6IhRBp3"
      },
      "execution_count": null,
      "outputs": []
    },
    {
      "cell_type": "code",
      "source": [
        "# Generating Text\n",
        "model = genai.GenerativeModel('gemini-pro')\n",
        "response = model.generate_content(\"What is AR?\")\n",
        "to_markdown(response.text)\n",
        "#response.prompt_feedback\n",
        "#response.candidates"
      ],
      "metadata": {
        "colab": {
          "base_uri": "https://localhost:8080/",
          "height": 245
        },
        "id": "l1BJfE0mRtdH",
        "outputId": "10999f77-2146-4c0f-b780-64b565c35572"
      },
      "execution_count": null,
      "outputs": [
        {
          "output_type": "error",
          "ename": "AttributeError",
          "evalue": "ignored",
          "traceback": [
            "\u001b[0;31m---------------------------------------------------------------------------\u001b[0m",
            "\u001b[0;31mAttributeError\u001b[0m                            Traceback (most recent call last)",
            "\u001b[0;32m<ipython-input-8-d03bd68f0086>\u001b[0m in \u001b[0;36m<cell line: 2>\u001b[0;34m()\u001b[0m\n\u001b[1;32m      1\u001b[0m \u001b[0;31m# Generating Text\u001b[0m\u001b[0;34m\u001b[0m\u001b[0;34m\u001b[0m\u001b[0m\n\u001b[0;32m----> 2\u001b[0;31m \u001b[0mmodel\u001b[0m \u001b[0;34m=\u001b[0m \u001b[0mgenai\u001b[0m\u001b[0;34m.\u001b[0m\u001b[0mGenerativeModel\u001b[0m\u001b[0;34m(\u001b[0m\u001b[0;34m'gemini-pro'\u001b[0m\u001b[0;34m)\u001b[0m\u001b[0;34m\u001b[0m\u001b[0;34m\u001b[0m\u001b[0m\n\u001b[0m\u001b[1;32m      3\u001b[0m \u001b[0mresponse\u001b[0m \u001b[0;34m=\u001b[0m \u001b[0mmodel\u001b[0m\u001b[0;34m.\u001b[0m\u001b[0mgenerate_content\u001b[0m\u001b[0;34m(\u001b[0m\u001b[0;34m\"What is AR?\"\u001b[0m\u001b[0;34m)\u001b[0m\u001b[0;34m\u001b[0m\u001b[0;34m\u001b[0m\u001b[0m\n\u001b[1;32m      4\u001b[0m \u001b[0mto_markdown\u001b[0m\u001b[0;34m(\u001b[0m\u001b[0mresponse\u001b[0m\u001b[0;34m.\u001b[0m\u001b[0mtext\u001b[0m\u001b[0;34m)\u001b[0m\u001b[0;34m\u001b[0m\u001b[0;34m\u001b[0m\u001b[0m\n\u001b[1;32m      5\u001b[0m \u001b[0;31m#response.prompt_feedback\u001b[0m\u001b[0;34m\u001b[0m\u001b[0;34m\u001b[0m\u001b[0m\n",
            "\u001b[0;31mAttributeError\u001b[0m: module 'google.generativeai' has no attribute 'GenerativeModel'"
          ]
        }
      ]
    },
    {
      "cell_type": "code",
      "source": [
        "# Generating Text as it streams\n",
        "response = model.generate_content(\"Why cathching Pokemons is the only good implementation for AR?\", stream=True)\n",
        "for chunk in response:\n",
        "  print(chunk.text)\n",
        "  print(\"_\"*80)"
      ],
      "metadata": {
        "colab": {
          "base_uri": "https://localhost:8080/",
          "height": 575
        },
        "id": "bYypavkDSzgb",
        "outputId": "8396a8ba-25c8-4742-87c7-6e45a446d137"
      },
      "execution_count": null,
      "outputs": [
        {
          "output_type": "stream",
          "name": "stdout",
          "text": [
            "1. **Innovative Gameplay:** Metal Gear Solid introduced several innovative gameplay mechanics that revolution\n",
            "________________________________________________________________________________\n",
            "ized the stealth genre. The game's emphasis on stealth, rather than direct combat, and its intricate level design allowed players to approach situations in multiple ways,\n",
            "________________________________________________________________________________\n",
            " promoting creativity and exploration.\n",
            "\n",
            "\n",
            "2. **Compelling Story:** Metal Gear Solid features a complex and engaging story that captivated players with its twists, turns, and memorable characters. The game's themes of war, politics, and the nature of reality resonated with audiences and left a lasting impression.\n",
            "\n",
            "\n",
            "3. **\n",
            "________________________________________________________________________________\n",
            "Cinematic Presentation:** Metal Gear Solid pushed the boundaries of storytelling in video games with its cinematic presentation. The use of cutscenes, camera angles, and voice acting created a highly immersive experience that made players feel like they were part of an interactive movie.\n",
            "\n",
            "\n",
            "4. **Iconic Characters:** Metal Gear Solid introduced a cast of unforgettable characters who quickly became fan favorites. Solid Snake, the game's protagonist, is considered one of the most iconic video game characters of all time, known for his stoic demeanor, exceptional skills, and determination to complete his missions.\n",
            "\n",
            "\n",
            "5. **Memorable Bosses:** Metal Gear Solid's boss fights\n",
            "________________________________________________________________________________\n",
            " are widely regarded as some of the most memorable and challenging in gaming history. Each boss presented unique abilities and strategies, requiring players to adapt their tactics and approach each encounter differently.\n",
            "\n",
            "\n",
            "6. **Replayability:** Metal Gear Solid's complex level design and multiple endings encouraged players to revisit the game and explore different paths, making it highly replayable. The game's many secrets and Easter eggs also added to its longevity and appeal.\n",
            "\n",
            "\n",
            "7. **Critical Acclaim:** Metal Gear Solid received widespread critical acclaim upon its release, with many praising its groundbreaking gameplay, innovative storytelling, and technical achievements. It earned numerous awards, including Game of the Year honors from several publications, solidifying its status as a classic in the gaming world.\n",
            "\n",
            "\n",
            "8. **Cultural Impact:** Metal Gear Solid transcended the realm of video games and made a significant impact on popular culture. Its unique blend of action, stealth, and storytelling influenced subsequent stealth games and helped redefine the genre. The game's themes and characters have also been referenced and parodied in various media, demonstrating its lasting cultural significance.\n",
            "________________________________________________________________________________\n"
          ]
        }
      ]
    },
    {
      "cell_type": "code",
      "source": [
        "# Generating Text From Image\n",
        "#!curl -o image.jpg https://t0.gstatic.com/licensed-image?q=tbn:ANd9GcQ_Kevbk21QBRy-PgB4kQpS79brbmmEG7m3VOTShAn4PecDU5H5UxrJxE3Dw1JiaG17V88QIol19-3TM2wCHw\n",
        "#!curl -o image.jpg https://www.ssbwiki.com/images/5/5b/SnakeSubArt.jpg\n",
        "!curl -o image.jpg https://go.skimresources.com/?id=87431X1540261&isjs=1&jv=15.4.2-stackpath&sref=https%3A%2F%2Fwww.eurogamer.net%2Fpok-mon-go-finally-getting-ar-photo-mode&url=https%3A%2F%2Fassetsio.reedpopcdn.com%2F-1549982072136.jpg%3Fwidth%3D1920%26height%3D1920%26fit%3Dbounds%26quality%3D80%26format%3Djpg%26auto%3Dwebp&xs=1&xtz=-360&xuuid=e2b7f058542d5205915f311cefcea66d&cci=0b0cdcb768fa9ce61e8151ae29d4cf83"
      ],
      "metadata": {
        "colab": {
          "base_uri": "https://localhost:8080/"
        },
        "id": "8Jmtq_6JjX90",
        "outputId": "8913e38d-a1b6-4419-a6b6-f5c05f1c9302"
      },
      "execution_count": null,
      "outputs": [
        {
          "output_type": "stream",
          "name": "stdout",
          "text": [
            "  % Total    % Received % Xferd  Average Speed   Time    Time     Time  Current\n",
            "                                 Dload  Upload   Total   Spent    Left  Speed\n",
            "100  235k  100  235k    0     0   423k      0 --:--:-- --:--:-- --:--:--  423k\n"
          ]
        }
      ]
    },
    {
      "cell_type": "code",
      "source": [
        "import PIL.Image\n",
        "\n",
        "img = PIL.Image.open('image.jpg')\n",
        "img\n",
        "model = genai.GenerativeModel('gemini-pro-vision')\n",
        "response = model.generate_content(img)\n",
        "to_markdown(response.text)\n",
        "response2 = model.generate_content([\"Write a short, engaging blog post based on this picture. It should describe the hype over AR in pokemon go era\", img], stream=True)\n",
        "response2.resolve()\n",
        "to_markdown(response2.text)"
      ],
      "metadata": {
        "colab": {
          "base_uri": "https://localhost:8080/",
          "height": 260
        },
        "id": "kbGWqvyrowGw",
        "outputId": "72215d6e-2349-4848-fee6-22be1d40bfea"
      },
      "execution_count": null,
      "outputs": [
        {
          "output_type": "execute_result",
          "data": {
            "text/plain": [
              "<IPython.core.display.Markdown object>"
            ],
            "text/markdown": ">  Solid Snake is a fictional character and the protagonist of the Metal Gear Solid series of stealth action games created by Hideo Kojima. Snake is a soldier who specializes in infiltration and espionage. He is a clone of Big Boss, the legendary founder of the FOXHOUND special forces unit.\n> \n> Solid Snake was born in 1972. He was one of the first successful clones of Big Boss, and he was raised to be a soldier. Snake excelled in training, and he eventually became a member of FOXHOUND.\n> \n> In 1995, Snake was sent on a mission to infiltrate Outer Heaven, a nuclear weapons facility controlled by Big Boss. Snake succeeded in his mission, and he destroyed Outer Heaven. However, he was also exposed to the FOXDIE virus, which would eventually kill him.\n> \n> Snake continued to work as a soldier, and he took on a number of other missions. He eventually retired from active duty, but he was called back into service in 2005 to stop Liquid Snake, another clone of Big Boss, from starting a nuclear war. Snake succeeded in his mission, but he was killed by the FOXDIE virus.\n> \n> Solid Snake is a complex and tragic character. He is a hero who has saved the world on multiple occasions, but he is also a victim of his own genetic engineering. Snake is a reminder that even the best of intentions can sometimes lead to unintended consequences."
          },
          "metadata": {},
          "execution_count": 54
        }
      ]
    },
    {
      "cell_type": "code",
      "source": [
        "model = genai.GenerativeModel('gemini-pro')\n",
        "chat = model.start_chat(history=[])\n",
        "chat"
      ],
      "metadata": {
        "colab": {
          "base_uri": "https://localhost:8080/"
        },
        "id": "twkxMNFMw2b6",
        "outputId": "cacc96fd-05f1-4748-d668-f6a95c27d21e"
      },
      "execution_count": null,
      "outputs": [
        {
          "output_type": "execute_result",
          "data": {
            "text/plain": [
              "<google.generativeai.generative_models.ChatSession at 0x78e287855990>"
            ]
          },
          "metadata": {},
          "execution_count": 37
        }
      ]
    },
    {
      "cell_type": "code",
      "source": [
        "response = chat.send_message(\"Can you predict what games I'd enjoy based on my interest in Pokemon Go?.\")\n",
        "to_markdown(response.text)"
      ],
      "metadata": {
        "colab": {
          "base_uri": "https://localhost:8080/",
          "height": 418
        },
        "id": "582crdRMxWbg",
        "outputId": "b47c5af9-9a0e-4782-d5a2-13d52b7a03b5"
      },
      "execution_count": null,
      "outputs": [
        {
          "output_type": "execute_result",
          "data": {
            "text/plain": [
              "<IPython.core.display.Markdown object>"
            ],
            "text/markdown": "> Based on your interest in the Metal Gear series, here are some games that you might enjoy:\n> \n> * **Deus Ex** series: This cyberpunk action RPG series features a mix of stealth, action, and role-playing elements, with a focus on player choice and branching narratives.\n> \n> * **Splinter Cell** series: Another stealth-action series with a focus on realistic espionage and tactical gameplay.\n> \n> * **Hitman** series: A stealth game series where you play as a professional assassin, tasked with eliminating targets in creative and discreet ways.\n> \n> * **Dishonored** series: A first-person action-adventure game with a focus on stealth, supernatural powers, and a branching narrative.\n> \n> * **Thief** series: A stealth game series set in a dark fantasy world, where you play as a master thief navigating through dangerous environments.\n> \n> * **Assassin's Creed** series: An action-adventure series that blends stealth, combat, and historical exploration.\n> \n> * **Batman: Arkham** series: A superhero action-adventure series where you play as Batman, using stealth, combat, and gadgets to fight crime in Gotham City.\n> \n> * **Yakuza** series: A beat 'em up action-adventure series set in the Japanese criminal underworld, with a focus on melee combat, exploration, and side activities.\n> \n> * **Sleeping Dogs** (2012): An action-adventure game set in Hong Kong, where you play as an undercover police officer infiltrating the Triads.\n> \n> * **Prey** (2017): A first-person action RPG set in a space station overrun by hostile aliens, with a focus on exploration, stealth, and survival.\n> \n> * **Control** (2019): A third-person action-adventure game with a focus on supernatural powers, exploration, and mind-bending visuals.\n> \n> * **Deathloop** (2021): A first-person action game set in a time loop, where you must assassinate eight targets before the day resets.\n> \n> These games offer a mix of stealth, action, exploration, and narrative depth, similar to what you might enjoy in the Metal Gear series."
          },
          "metadata": {},
          "execution_count": 55
        }
      ]
    },
    {
      "cell_type": "code",
      "source": [
        "response = chat.send_message(\"Okay, now lets focus on recent games or those comming up soon\", stream=True)\n",
        "\n",
        "for chunk in response:\n",
        "  print(chunk.text)\n",
        "  print(\"_\"*80)"
      ],
      "metadata": {
        "colab": {
          "base_uri": "https://localhost:8080/",
          "height": 592
        },
        "id": "oTL0Qyn1xyIl",
        "outputId": "2625fbb4-2c16-432b-e549-3fabc4d74c09"
      },
      "execution_count": null,
      "outputs": [
        {
          "output_type": "stream",
          "name": "stdout",
          "text": [
            "Here are some recent and upcoming games that you might enjoy based on your interest in\n",
            "________________________________________________________________________________\n",
            " the Metal Gear series:\n",
            "\n",
            "* **Metal Gear Solid V: The Phantom Pain** (2015): The latest entry in the Metal Gear series,\n",
            "________________________________________________________________________________\n",
            " offering a vast open-world experience with stealth, action, and base-building elements.\n",
            "\n",
            "* **Death Stranding** (2019): A unique action game from Hideo Kojima, the creator of the Metal Gear series, featuring exploration, combat, and asynchronous multiplayer elements.\n",
            "\n",
            "* **Ghost of\n",
            "________________________________________________________________________________\n",
            " Tsushima** (2020): A samurai action-adventure game set in 13th century Japan, with a focus on exploration, combat, and stealth.\n",
            "\n",
            "* **Cyberpunk 2077** (2020): A first-person action RPG set in a futuristic cyberpunk world, with a focus on exploration, combat, and character customization.\n",
            "\n",
            "* **Hitman 3** (2021): The latest entry in the Hitman series, offering a variety of sandbox levels for you to assassinate targets in creative ways.\n",
            "\n",
            "* **Sifu** (2022):\n",
            "________________________________________________________________________________\n",
            " A third-person action game with a unique aging mechanic, where you must master kung fu combat to progress through the game.\n",
            "\n",
            "* **Stray Blade** (Upcoming): A third-person action RPG where you explore a ruined ancient world alongside your companion, the Xhinnon wolf Boji.\n",
            "\n",
            "* **Redfall** (Upcoming): A co-op action shooter set in a vampire-infested town, where you play as one of four unique characters with supernatural abilities.\n",
            "\n",
            "* **The Day Before** (Upcoming): A massively multiplayer online (MMO) survival game set in a post-apocalyptic America, where you must scavenge for resources, build shelters, and fight off infected enemies.\n",
            "\n",
            "* **Phantom Liberty** (Upcoming): An upcoming expansion for Cyberpunk 2077, adding a new storyline, characters, and locations to explore.\n",
            "\n",
            "These games offer a mix of stealth, action, exploration, and narrative depth, similar to what you might enjoy in the Metal Gear series, and they are either recently released or coming soon.\n",
            "________________________________________________________________________________\n"
          ]
        }
      ]
    },
    {
      "cell_type": "code",
      "source": [
        "for message in chat.history:\n",
        "  display(to_markdown(f'**{message.role}**: {message.parts[0].text}'))"
      ],
      "metadata": {
        "colab": {
          "base_uri": "https://localhost:8080/",
          "height": 1000
        },
        "id": "QST0R_DJyobm",
        "outputId": "85f70cc5-c9eb-4eb2-e150-ab62d03002db"
      },
      "execution_count": null,
      "outputs": [
        {
          "output_type": "display_data",
          "data": {
            "text/plain": [
              "<IPython.core.display.Markdown object>"
            ],
            "text/markdown": "> **user**: Can you predict when I'll deploy my static blog that I'm dreaming about for so long?."
          },
          "metadata": {}
        },
        {
          "output_type": "display_data",
          "data": {
            "text/plain": [
              "<IPython.core.display.Markdown object>"
            ],
            "text/markdown": "> **model**: Predicting the exact date of deployment for your static blog depends on various factors, and it can be challenging to provide a precise answer without knowing more details. However, I can guide you through a few steps to help you estimate a timeline:\n> \n> 1. **Planning and Concept:**\n> \n>    - Define the purpose and target audience of your blog.\n>    - Decide on the content strategy, including topics, categories, and frequency of posts.\n> \n> 2. **Platform and Design:**\n> \n>    - Choose a platform for hosting your static blog (e.g., GitHub Pages, Netlify, Vercel).\n>    - Select a theme or design template that aligns with your blog's concept.\n> \n> 3. **Content Creation:**\n> \n>    - Write high-quality blog posts that provide value to your target audience.\n>    - Gather any necessary images, illustrations, or multimedia content.\n> \n> 4. **Technical Setup:**\n> \n>    - Set up a GitHub repository (if using GitHub Pages) or connect your platform to your content source.\n>    - Configure build tools and deployment pipelines as required by your platform.\n> \n> 5. **Testing and Validation:**\n> \n>    - Thoroughly test your blog locally to ensure everything works as expected.\n>    - Preview your blog on a staging or local environment before deploying.\n> \n> 6. **Deployment Process:**\n> \n>    - Understand the specific steps and commands required to deploy your blog on your chosen platform.\n> \n> 7. **Review and Refinement:**\n> \n>    - Allow time for feedback, refinement, and additional content creation before the initial deployment.\n> \n> 8. **Scheduling Deployment:**\n> \n>    - Choose a suitable date and time for your blog's initial deployment, considering factors like traffic patterns and engagement.\n> \n> 9. **Monitoring and Maintenance:**\n> \n>    - Plan to monitor your blog's performance, traffic, and user engagement after deployment.\n>    - Allocate time for ongoing maintenance tasks, such as updates, security patches, and new content.\n> \n> 10. **Flexibility and Contingencies:**\n> \n>    - Be prepared for potential delays or unforeseen challenges during the deployment process.\n>    - Maintain flexibility in your schedule to accommodate any necessary adjustments or troubleshooting.\n> \n> Remember that this timeline is an approximation, and several factors, such as your experience level, the complexity of your blog, and any unforeseen issues, can influence the actual deployment date. The key is to have a well-structured plan, work efficiently, and be ready to adapt as needed. Best of luck with your static blog deployment!"
          },
          "metadata": {}
        },
        {
          "output_type": "display_data",
          "data": {
            "text/plain": [
              "<IPython.core.display.Markdown object>"
            ],
            "text/markdown": "> **user**: Okay, now provide the steps to develop static blog using nust content framework"
          },
          "metadata": {}
        },
        {
          "output_type": "display_data",
          "data": {
            "text/plain": [
              "<IPython.core.display.Markdown object>"
            ],
            "text/markdown": "> **model**: To develop a static blog using the Nust content framework, follow these steps:\n> \n> 1. **Prerequisites:**\n> \n>    - Install Node.js and npm (Node Package Manager).\n>    - Install the Nust CLI globally using npm: `npm install -g @nust/cli`.\n> \n> 2. **Create a New Blog Project:**\n> \n>    - Create a new directory for your blog and navigate to it in your terminal.\n>    - Initialize a new Nust project using the CLI: `nust init`.\n>    - Select the \"Blog\" project template.\n> \n> 3. **Configure Your Blog:**\n> \n>    - Edit the `siteConfig.json` file to configure your blog's title, description, and other settings.\n>    - Add your blog posts to the `content/posts` directory. Each post should be a Markdown file with a YAML front matter containing metadata like title, date, and tags.\n> \n> 4. **Develop Your Blog's Design:**\n> \n>    - Nust uses the Eleventy template engine for rendering. You can create your own templates in the `templates` directory or use a pre-built theme.\n>    - Customize the appearance of your blog by editing the CSS and HTML files in the `assets` directory.\n> \n> 5. **Preview Your Blog Locally:**\n> \n>    - Run `nust dev` to start a local development server.\n>    - Your blog will be available at `http://localhost:8080`.\n> \n> 6. **Deploy Your Blog:**\n> \n>    - Nust supports deploying your blog to various platforms, including GitHub Pages, Netlify, and Vercel.\n>    - Follow the documentation for your chosen platform to set up continuous deployment from your Git repository.\n> \n> 7. **Monitor and Maintain Your Blog:**\n> \n>    - After deployment, monitor your blog's traffic and engagement using analytics tools.\n>    - Keep your blog's content and software up to date to ensure security and optimal performance.\n> \n> Here are some additional tips for using Nust to develop your static blog:\n> \n> - Nust uses Markdown for content creation. Learn Markdown syntax to format your posts effectively.\n> - Utilize Nust's built-in shortcodes for adding custom functionality to your blog.\n> - Take advantage of Nust's extensive plugin ecosystem to extend your blog's capabilities.\n> - Join the Nust community on Discord or the Nust forum for support and collaboration.\n> \n> Remember to regularly back up your blog's content and configuration files to protect your work. Happy blogging with Nust!"
          },
          "metadata": {}
        }
      ]
    },
    {
      "cell_type": "code",
      "source": [
        "response.candidates[0].content"
      ],
      "metadata": {
        "colab": {
          "base_uri": "https://localhost:8080/"
        },
        "id": "ZyfCl2Fr09qV",
        "outputId": "d73aa4f7-d6c3-4aad-8a9f-4e3186f4b4e5"
      },
      "execution_count": null,
      "outputs": [
        {
          "output_type": "execute_result",
          "data": {
            "text/plain": [
              "parts {\n",
              "  text: \"To develop a static blog using the Nust content framework, follow these steps:\\n\\n1. **Prerequisites:**\\n\\n   - Install Node.js and npm (Node Package Manager).\\n   - Install the Nust CLI globally using npm: `npm install -g @nust/cli`.\\n\\n2. **Create a New Blog Project:**\\n\\n   - Create a new directory for your blog and navigate to it in your terminal.\\n   - Initialize a new Nust project using the CLI: `nust init`.\\n   - Select the \\\"Blog\\\" project template.\\n\\n3. **Configure Your Blog:**\\n\\n   - Edit the `siteConfig.json` file to configure your blog\\'s title, description, and other settings.\\n   - Add your blog posts to the `content/posts` directory. Each post should be a Markdown file with a YAML front matter containing metadata like title, date, and tags.\\n\\n4. **Develop Your Blog\\'s Design:**\\n\\n   - Nust uses the Eleventy template engine for rendering. You can create your own templates in the `templates` directory or use a pre-built theme.\\n   - Customize the appearance of your blog by editing the CSS and HTML files in the `assets` directory.\\n\\n5. **Preview Your Blog Locally:**\\n\\n   - Run `nust dev` to start a local development server.\\n   - Your blog will be available at `http://localhost:8080`.\\n\\n6. **Deploy Your Blog:**\\n\\n   - Nust supports deploying your blog to various platforms, including GitHub Pages, Netlify, and Vercel.\\n   - Follow the documentation for your chosen platform to set up continuous deployment from your Git repository.\\n\\n7. **Monitor and Maintain Your Blog:**\\n\\n   - After deployment, monitor your blog\\'s traffic and engagement using analytics tools.\\n   - Keep your blog\\'s content and software up to date to ensure security and optimal performance.\\n\\nHere are some additional tips for using Nust to develop your static blog:\\n\\n- Nust uses Markdown for content creation. Learn Markdown syntax to format your posts effectively.\\n- Utilize Nust\\'s built-in shortcodes for adding custom functionality to your blog.\\n- Take advantage of Nust\\'s extensive plugin ecosystem to extend your blog\\'s capabilities.\\n- Join the Nust community on Discord or the Nust forum for support and collaboration.\\n\\nRemember to regularly back up your blog\\'s content and configuration files to protect your work. Happy blogging with Nust!\"\n",
              "}\n",
              "role: \"model\""
            ]
          },
          "metadata": {},
          "execution_count": 44
        }
      ]
    },
    {
      "cell_type": "code",
      "source": [
        "chat.history"
      ],
      "metadata": {
        "colab": {
          "base_uri": "https://localhost:8080/"
        },
        "id": "fXqWr2w11FRL",
        "outputId": "c36a094c-7f1c-4559-9f54-504ea8f9d489"
      },
      "execution_count": null,
      "outputs": [
        {
          "output_type": "execute_result",
          "data": {
            "text/plain": [
              "[parts {\n",
              "   text: \"Can you predict when I\\'ll deploy my static blog that I\\'m dreaming about for so long?.\"\n",
              " }\n",
              " role: \"user\",\n",
              " parts {\n",
              "   text: \"Predicting the exact date of deployment for your static blog depends on various factors, and it can be challenging to provide a precise answer without knowing more details. However, I can guide you through a few steps to help you estimate a timeline:\\n\\n1. **Planning and Concept:**\\n\\n   - Define the purpose and target audience of your blog.\\n   - Decide on the content strategy, including topics, categories, and frequency of posts.\\n\\n2. **Platform and Design:**\\n\\n   - Choose a platform for hosting your static blog (e.g., GitHub Pages, Netlify, Vercel).\\n   - Select a theme or design template that aligns with your blog\\'s concept.\\n\\n3. **Content Creation:**\\n\\n   - Write high-quality blog posts that provide value to your target audience.\\n   - Gather any necessary images, illustrations, or multimedia content.\\n\\n4. **Technical Setup:**\\n\\n   - Set up a GitHub repository (if using GitHub Pages) or connect your platform to your content source.\\n   - Configure build tools and deployment pipelines as required by your platform.\\n\\n5. **Testing and Validation:**\\n\\n   - Thoroughly test your blog locally to ensure everything works as expected.\\n   - Preview your blog on a staging or local environment before deploying.\\n\\n6. **Deployment Process:**\\n\\n   - Understand the specific steps and commands required to deploy your blog on your chosen platform.\\n\\n7. **Review and Refinement:**\\n\\n   - Allow time for feedback, refinement, and additional content creation before the initial deployment.\\n\\n8. **Scheduling Deployment:**\\n\\n   - Choose a suitable date and time for your blog\\'s initial deployment, considering factors like traffic patterns and engagement.\\n\\n9. **Monitoring and Maintenance:**\\n\\n   - Plan to monitor your blog\\'s performance, traffic, and user engagement after deployment.\\n   - Allocate time for ongoing maintenance tasks, such as updates, security patches, and new content.\\n\\n10. **Flexibility and Contingencies:**\\n\\n   - Be prepared for potential delays or unforeseen challenges during the deployment process.\\n   - Maintain flexibility in your schedule to accommodate any necessary adjustments or troubleshooting.\\n\\nRemember that this timeline is an approximation, and several factors, such as your experience level, the complexity of your blog, and any unforeseen issues, can influence the actual deployment date. The key is to have a well-structured plan, work efficiently, and be ready to adapt as needed. Best of luck with your static blog deployment!\"\n",
              " }\n",
              " role: \"model\",\n",
              " parts {\n",
              "   text: \"Okay, now provide the steps to develop static blog using nust content framework\"\n",
              " }\n",
              " role: \"user\",\n",
              " parts {\n",
              "   text: \"To develop a static blog using the Nust content framework, follow these steps:\\n\\n1. **Prerequisites:**\\n\\n   - Install Node.js and npm (Node Package Manager).\\n   - Install the Nust CLI globally using npm: `npm install -g @nust/cli`.\\n\\n2. **Create a New Blog Project:**\\n\\n   - Create a new directory for your blog and navigate to it in your terminal.\\n   - Initialize a new Nust project using the CLI: `nust init`.\\n   - Select the \\\"Blog\\\" project template.\\n\\n3. **Configure Your Blog:**\\n\\n   - Edit the `siteConfig.json` file to configure your blog\\'s title, description, and other settings.\\n   - Add your blog posts to the `content/posts` directory. Each post should be a Markdown file with a YAML front matter containing metadata like title, date, and tags.\\n\\n4. **Develop Your Blog\\'s Design:**\\n\\n   - Nust uses the Eleventy template engine for rendering. You can create your own templates in the `templates` directory or use a pre-built theme.\\n   - Customize the appearance of your blog by editing the CSS and HTML files in the `assets` directory.\\n\\n5. **Preview Your Blog Locally:**\\n\\n   - Run `nust dev` to start a local development server.\\n   - Your blog will be available at `http://localhost:8080`.\\n\\n6. **Deploy Your Blog:**\\n\\n   - Nust supports deploying your blog to various platforms, including GitHub Pages, Netlify, and Vercel.\\n   - Follow the documentation for your chosen platform to set up continuous deployment from your Git repository.\\n\\n7. **Monitor and Maintain Your Blog:**\\n\\n   - After deployment, monitor your blog\\'s traffic and engagement using analytics tools.\\n   - Keep your blog\\'s content and software up to date to ensure security and optimal performance.\\n\\nHere are some additional tips for using Nust to develop your static blog:\\n\\n- Nust uses Markdown for content creation. Learn Markdown syntax to format your posts effectively.\\n- Utilize Nust\\'s built-in shortcodes for adding custom functionality to your blog.\\n- Take advantage of Nust\\'s extensive plugin ecosystem to extend your blog\\'s capabilities.\\n- Join the Nust community on Discord or the Nust forum for support and collaboration.\\n\\nRemember to regularly back up your blog\\'s content and configuration files to protect your work. Happy blogging with Nust!\"\n",
              " }\n",
              " role: \"model\"]"
            ]
          },
          "metadata": {},
          "execution_count": 46
        }
      ]
    }
  ]
}